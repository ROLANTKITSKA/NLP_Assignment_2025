{
 "cells": [
  {
   "cell_type": "code",
   "execution_count": 1,
   "id": "89465920",
   "metadata": {},
   "outputs": [],
   "source": [
    "# Custome paraphrase συνάρτηση\n",
    "def naive_paraphrase(sentence):\n",
    "    # Αντικατάσταση λέξεων με απλούστερες ή συνώνυμα\n",
    "    replacements = {\n",
    "        \"thank\": \"we appreciate\",\n",
    "        \"message\": \"note\",\n",
    "        \"doctor\": \"supervisor\",\n",
    "        \"plan\": \"intend\",\n",
    "        \"remind\": \"let me know\",\n",
    "        \"edit\": \"change\",\n",
    "        \"section\": \"part\",\n",
    "        \"contract\": \"agreement\",\n",
    "        \"acknowledgments\": \"thank you note\"\n",
    "    }\n",
    "\n",
    "\n",
    "    for word, new_word in replacements.items():\n",
    "        sentence = sentence.replace(word, new_word)\n",
    "\n",
    "\n",
    "\n",
    "\n",
    "    sentence = sentence.replace(\"kindly let me know please\", \"please kindly let me know\")\n",
    "    sentence = sentence.replace(\"before he sending again\", \"before he sends it again\")\n",
    "\n",
    "\n",
    "    return sentence\n"
   ]
  },
  {
   "cell_type": "code",
   "execution_count": 2,
   "id": "48c13827",
   "metadata": {},
   "outputs": [],
   "source": [
    "# Οι προτάσεις μας\n",
    "sent1 = \"Thank your message to show our words to the doctor, as his next contract checking, to all of us.\"\n",
    "sent2 = \"Also, kindly remind me please, if the doctor still plan for the acknowledgments section edit before he sending again.\""
   ]
  },
  {
   "cell_type": "code",
   "execution_count": 3,
   "id": "64f85790",
   "metadata": {},
   "outputs": [],
   "source": [
    "\n",
    "reconstructed1 = naive_paraphrase(sent1)\n",
    "reconstructed2 = naive_paraphrase(sent2)"
   ]
  },
  {
   "cell_type": "code",
   "execution_count": 4,
   "id": "f5413fd8",
   "metadata": {},
   "outputs": [
    {
     "name": "stdout",
     "output_type": "stream",
     "text": [
      "Original 1: Thank your message to show our words to the doctor, as his next contract checking, to all of us.\n",
      "Reconstructed 1: Thank your note to show our words to the supervisor, as his next agreement checking, to all of us.\n",
      "\n",
      "Original 2: Also, kindly remind me please, if the doctor still plan for the acknowledgments section edit before he sending again.\n",
      "Reconstructed 2: Also, kindly let me know me please, if the supervisor still intend for the thank you note part change before he sends it again.\n"
     ]
    }
   ],
   "source": [
    "# τα αποτελεσματα\n",
    "print(\"Original 1:\", sent1)\n",
    "print(\"Reconstructed 1:\", reconstructed1)\n",
    "print()\n",
    "print(\"Original 2:\", sent2)\n",
    "print(\"Reconstructed 2:\", reconstructed2)"
   ]
  }
 ],
 "metadata": {
  "kernelspec": {
   "display_name": "Python 3",
   "language": "python",
   "name": "python3"
  },
  "language_info": {
   "codemirror_mode": {
    "name": "ipython",
    "version": 3
   },
   "file_extension": ".py",
   "mimetype": "text/x-python",
   "name": "python",
   "nbconvert_exporter": "python",
   "pygments_lexer": "ipython3",
   "version": "3.10.10"
  }
 },
 "nbformat": 4,
 "nbformat_minor": 5
}
