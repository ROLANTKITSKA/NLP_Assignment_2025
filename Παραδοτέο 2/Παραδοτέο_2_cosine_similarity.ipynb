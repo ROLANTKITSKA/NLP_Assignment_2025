{
 "cells": [
  {
   "cell_type": "code",
   "execution_count": 1,
   "id": "04d4fbfa",
   "metadata": {},
   "outputs": [],
   "source": [
    "from gensim.models import Word2Vec\n",
    "from gensim.utils import simple_preprocess\n",
    "from sklearn.metrics.pairwise import cosine_similarity\n",
    "import numpy as np\n",
    "import pandas as pd\n",
    "import matplotlib.pyplot as plt"
   ]
  },
  {
   "cell_type": "code",
   "execution_count": 2,
   "id": "53ca241c",
   "metadata": {},
   "outputs": [],
   "source": [
    "original1 = \"\"\"Today is our dragon boat festival, in our Chinese culture, to celebrate it with all safe and great in our lives. Hope you too, to enjoy it as my deepest wishes.\n",
    "Thank your message to show our words to the doctor, as his next contract checking, to all of us.\n",
    "I got this message to see the approved message. In fact, I have received the message from the professor, to show me, this, a couple of days ago. I am very appreciated the full support of the professor, for our Springer proceedings publication.\"\"\"\n",
    "\n",
    "reconstructed1 = \"\"\"Today is our dragon boat festival, in our Chinese culture, to celebrate it with all safe and great in our lives. Hope you too, to enjoy it as my deepest wishes. Thank your message to show our words to the doctor, as his next contract checking, to all of us. I got this message to see the approved message. In fact, I have received the message from the professor, to show me, this, a couple of days ago. I am very appreciated the full support of the professor, for our Springer proceedings publication.\"\"\"\n",
    "\n",
    "\n",
    "original2 = \"\"\"During our final discuss, I told him about the new submission — the one we were waiting since last autumn, but the updates was confusing as it not included the full feedback from reviewer or maybe editor?\n",
    "Anyway, I believe the team, although bit delay and less communication at recent days, they really tried best for paper and cooperation. We should be grateful, I mean all of us, for the acceptance and efforts until the Springer link came finally last week, I think.\n",
    "Also, kindly remind me please, if the doctor still plan for the acknowledgments section edit before he sending again. Because I didn’t see that part final yet, or maybe I missed, I apologize if so.\n",
    "Overall, let us make sure all are safe and celebrate the outcome with strong coffee and future targets\"\"\"\n",
    "\n",
    "\n",
    "reconstructed2 = \"\"\"During our final discussion, I told him about the new submission — the one we were waiting since last autumn, but the updates was confusing as it not included the full feedback from reviewer or maybe editor?\n",
    "Anyway, I believe the team, although bit delay and less communication at recent days, they really tried best for paper and cooperation. We should be grateful, I mean all of us, for the acceptance and efforts until the Springer link came finally last week, I think. Also, kindly remind me please, if the doctor still plan for the acknowledgments section edit before he sending again. Because I didn’t see that part final yet, or maybe I missed, I apologize if so. Overall, let us make sure all are safe and celebrate the outcome with strong coffee and future targets.\"\"\"\n"
   ]
  },
  {
   "cell_type": "code",
   "execution_count": 3,
   "id": "d0ef06f0",
   "metadata": {},
   "outputs": [],
   "source": [
    "texts = [original1, reconstructed1, original2, reconstructed2]\n",
    "tokenized = [simple_preprocess(t) for t in texts]\n",
    "model = Word2Vec(sentences=tokenized, vector_size=100, window=5, min_count=1, workers=2)"
   ]
  },
  {
   "cell_type": "code",
   "execution_count": 4,
   "id": "83425ced",
   "metadata": {},
   "outputs": [],
   "source": [
    "def average_similarity(tokens1, tokens2, model):\n",
    "    sims = []\n",
    "\n",
    "    for w1 in tokens1:\n",
    "        if w1 in model.wv:\n",
    "            max_sim = max(\n",
    "                [cosine_similarity([model.wv[w1]], [model.wv[w2]])[0][0]\n",
    "                 for w2 in tokens2 if w2 in model.wv], default=0)\n",
    "            sims.append(max_sim)\n",
    "    return np.mean(sims) if sims else 0"
   ]
  },
  {
   "cell_type": "code",
   "execution_count": 5,
   "id": "7db0afcc",
   "metadata": {},
   "outputs": [],
   "source": [
    "def symmetric_similarity(text1, text2, model):\n",
    "    tokens1 = simple_preprocess(text1)\n",
    "\n",
    "    tokens2 = simple_preprocess(text2)\n",
    "    sim1 = average_similarity(tokens1, tokens2, model)\n",
    "    sim2 = average_similarity(tokens2, tokens1, model)\n",
    "\n",
    "    return (sim1 + sim2) / 2\n"
   ]
  },
  {
   "cell_type": "code",
   "execution_count": 6,
   "id": "ebcf3c3b",
   "metadata": {},
   "outputs": [],
   "source": [
    "def cosine_similarity_mean_vector(text1, text2, model):\n",
    "    def get_mean_vector(tokens):\n",
    "        vectors = [model.wv[word] for word in tokens if word in model.wv]\n",
    "        return np.mean(vectors, axis=0) if vectors else np.zeros(model.vector_size)\n",
    "\n",
    "\n",
    "    tokens1 = simple_preprocess(text1)\n",
    "    tokens2 = simple_preprocess(text2)\n",
    "    vec1 = get_mean_vector(tokens1)\n",
    "    vec2 = get_mean_vector(tokens2)\n",
    "    sim = cosine_similarity([vec1], [vec2])[0][0]\n",
    "    return sim\n"
   ]
  },
  {
   "cell_type": "code",
   "execution_count": 7,
   "id": "2cbe6fff",
   "metadata": {},
   "outputs": [
    {
     "name": "stdout",
     "output_type": "stream",
     "text": [
      "Cosine similarity (mean vectors) for Paragraph 1: 1.0000\n",
      "Cosine similarity (mean vectors) for Paragraph 2: 0.9974\n"
     ]
    }
   ],
   "source": [
    "cos_sim1 = cosine_similarity_mean_vector(original1, reconstructed1, model)\n",
    "cos_sim2 = cosine_similarity_mean_vector(original2, reconstructed2, model)\n",
    "print(f\"Cosine similarity (mean vectors) for Paragraph 1: {cos_sim1:.4f}\")\n",
    "print(f\"Cosine similarity (mean vectors) for Paragraph 2: {cos_sim2:.4f}\")"
   ]
  }
 ],
 "metadata": {
  "kernelspec": {
   "display_name": "Python 3",
   "language": "python",
   "name": "python3"
  },
  "language_info": {
   "codemirror_mode": {
    "name": "ipython",
    "version": 3
   },
   "file_extension": ".py",
   "mimetype": "text/x-python",
   "name": "python",
   "nbconvert_exporter": "python",
   "pygments_lexer": "ipython3",
   "version": "3.10.10"
  }
 },
 "nbformat": 4,
 "nbformat_minor": 5
}
